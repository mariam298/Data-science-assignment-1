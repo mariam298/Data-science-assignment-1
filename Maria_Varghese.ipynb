{
  "nbformat": 4,
  "nbformat_minor": 0,
  "metadata": {
    "colab": {
      "provenance": []
    },
    "kernelspec": {
      "name": "python3",
      "display_name": "Python 3"
    },
    "language_info": {
      "name": "python"
    }
  },
  "cells": [
    {
      "cell_type": "code",
      "source": [
        "import pandas as pd\n",
        "\n",
        "\n",
        "df = pd.read_excel('iris.xls')"
      ],
      "metadata": {
        "id": "tL0kcuIOZ_vH"
      },
      "execution_count": 5,
      "outputs": []
    },
    {
      "cell_type": "markdown",
      "source": [
        "1. Read the dataset to python environment."
      ],
      "metadata": {
        "id": "xodrr4pNs_SG"
      }
    },
    {
      "cell_type": "code",
      "execution_count": null,
      "metadata": {
        "colab": {
          "base_uri": "https://localhost:8080/"
        },
        "id": "BLnVRfu8muIi",
        "outputId": "73d9b992-58fc-4926-baf0-138ebbc5f0ca"
      },
      "outputs": [
        {
          "output_type": "stream",
          "name": "stdout",
          "text": [
            "    SL   SW   PL   PW Classification\n",
            "0  5.1  3.5  1.4  0.2    Iris-setosa\n",
            "1  4.9  3.0  1.4  0.2    Iris-setosa\n",
            "2  4.7  3.2  1.3  0.2    Iris-setosa\n",
            "3  4.6  3.1  1.5  0.2    Iris-setosa\n",
            "4  5.0  3.6  1.4  0.2    Iris-setosa\n"
          ]
        }
      ],
      "source": [
        "import pandas as pd\n",
        "\n",
        "\n",
        "df = pd.read_excel('iris.xls')\n",
        "\n",
        "\n",
        "print(df.head())"
      ]
    },
    {
      "cell_type": "code",
      "source": [
        "import pandas as pd\n",
        "\n",
        "\n",
        "pd.set_option('display.max_rows', None)\n",
        "pd.set_option('display.max_columns', None)\n",
        "\n",
        "\n",
        "df = pd.read_excel('iris.xls')\n",
        "\n",
        "\n",
        "print(df)"
      ],
      "metadata": {
        "id": "c2xx3eztsjni",
        "colab": {
          "base_uri": "https://localhost:8080/"
        },
        "outputId": "f0139076-58ff-4708-aa82-28bd7de58219"
      },
      "execution_count": null,
      "outputs": [
        {
          "output_type": "stream",
          "name": "stdout",
          "text": [
            "      SL   SW   PL   PW   Classification\n",
            "0    5.1  3.5  1.4  0.2      Iris-setosa\n",
            "1    4.9  3.0  1.4  0.2      Iris-setosa\n",
            "2    4.7  3.2  1.3  0.2      Iris-setosa\n",
            "3    4.6  3.1  1.5  0.2      Iris-setosa\n",
            "4    5.0  3.6  1.4  0.2      Iris-setosa\n",
            "5    5.4  3.9  1.7  0.4      Iris-setosa\n",
            "6    4.6  3.4  1.4  0.3      Iris-setosa\n",
            "7    5.0  3.4  1.5  0.2      Iris-setosa\n",
            "8    4.4  2.9  1.4  0.2      Iris-setosa\n",
            "9    4.9  3.1  1.5  0.1      Iris-setosa\n",
            "10   5.4  3.7  1.5  0.2      Iris-setosa\n",
            "11   4.8  3.4  1.6  0.2      Iris-setosa\n",
            "12   4.8  3.0  1.4  0.1      Iris-setosa\n",
            "13   4.3  3.0  1.1  0.1      Iris-setosa\n",
            "14   5.8  4.0  1.2  0.2      Iris-setosa\n",
            "15   5.7  4.4  1.5  0.4      Iris-setosa\n",
            "16   5.4  3.9  1.3  0.4      Iris-setosa\n",
            "17   5.1  3.5  1.4  0.3      Iris-setosa\n",
            "18   5.7  3.8  1.7  0.3      Iris-setosa\n",
            "19   5.1  3.8  1.5  0.3      Iris-setosa\n",
            "20   5.4  3.4  1.7  0.2      Iris-setosa\n",
            "21   5.1  3.7  1.5  0.4      Iris-setosa\n",
            "22   4.6  3.6  1.0  0.2      Iris-setosa\n",
            "23   5.1  3.3  1.7  0.5      Iris-setosa\n",
            "24   4.8  3.4  1.9  0.2      Iris-setosa\n",
            "25   5.0  3.0  1.6  0.2      Iris-setosa\n",
            "26   5.0  3.4  1.6  0.4      Iris-setosa\n",
            "27   5.2  3.5  1.5  0.2      Iris-setosa\n",
            "28   5.2  3.4  1.4  0.2      Iris-setosa\n",
            "29   4.7  3.2  1.6  0.2      Iris-setosa\n",
            "30   4.8  3.1  1.6  0.2      Iris-setosa\n",
            "31   5.4  3.4  1.5  0.4      Iris-setosa\n",
            "32   5.2  4.1  1.5  0.1      Iris-setosa\n",
            "33   5.5  4.2  1.4  0.2      Iris-setosa\n",
            "34   4.9  3.1  1.5  0.1      Iris-setosa\n",
            "35   5.0  3.2  1.2  0.2      Iris-setosa\n",
            "36   5.5  3.5  1.3  0.2      Iris-setosa\n",
            "37   4.9  3.1  1.5  0.1      Iris-setosa\n",
            "38   4.4  3.0  1.3  0.2      Iris-setosa\n",
            "39   5.1  3.4  1.5  0.2      Iris-setosa\n",
            "40   5.0  3.5  1.3  0.3      Iris-setosa\n",
            "41   4.5  2.3  1.3  0.3      Iris-setosa\n",
            "42   4.4  3.2  1.3  0.2      Iris-setosa\n",
            "43   5.0  3.5  1.6  0.6      Iris-setosa\n",
            "44   5.1  3.8  1.9  0.4      Iris-setosa\n",
            "45   4.8  3.0  1.4  0.3      Iris-setosa\n",
            "46   5.1  3.8  1.6  0.2      Iris-setosa\n",
            "47   4.6  3.2  1.4  0.2      Iris-setosa\n",
            "48   5.3  3.7  1.5  0.2      Iris-setosa\n",
            "49   5.0  3.3  1.4  0.2      Iris-setosa\n",
            "50   7.0  3.2  4.7  1.4  Iris-versicolor\n",
            "51   6.4  3.2  4.5  1.5  Iris-versicolor\n",
            "52   6.9  3.1  4.9  1.5  Iris-versicolor\n",
            "53   5.5  2.3  4.0  1.3  Iris-versicolor\n",
            "54   6.5  2.8  4.6  1.5  Iris-versicolor\n",
            "55   5.7  2.8  4.5  1.3  Iris-versicolor\n",
            "56   6.3  3.3  4.7  1.6  Iris-versicolor\n",
            "57   4.9  2.4  3.3  1.0  Iris-versicolor\n",
            "58   6.6  2.9  4.6  1.3  Iris-versicolor\n",
            "59   5.2  2.7  3.9  1.4  Iris-versicolor\n",
            "60   5.0  2.0  3.5  1.0  Iris-versicolor\n",
            "61   5.9  3.0  4.2  1.5  Iris-versicolor\n",
            "62   6.0  2.2  4.0  1.0  Iris-versicolor\n",
            "63   6.1  2.9  4.7  1.4  Iris-versicolor\n",
            "64   5.6  2.9  3.6  1.3  Iris-versicolor\n",
            "65   6.7  3.1  4.4  1.4  Iris-versicolor\n",
            "66   5.6  3.0  4.5  1.5  Iris-versicolor\n",
            "67   5.8  2.7  4.1  1.0  Iris-versicolor\n",
            "68   6.2  2.2  4.5  1.5  Iris-versicolor\n",
            "69   5.6  2.5  3.9  1.1  Iris-versicolor\n",
            "70   5.9  3.2  4.8  1.8  Iris-versicolor\n",
            "71   6.1  2.8  4.0  1.3  Iris-versicolor\n",
            "72   6.3  2.5  4.9  1.5  Iris-versicolor\n",
            "73   6.1  2.8  4.7  1.2  Iris-versicolor\n",
            "74   6.4  2.9  4.3  1.3  Iris-versicolor\n",
            "75   6.6  3.0  4.4  1.4  Iris-versicolor\n",
            "76   6.8  2.8  4.8  1.4  Iris-versicolor\n",
            "77   6.7  3.0  5.0  1.7  Iris-versicolor\n",
            "78   6.0  2.9  4.5  1.5  Iris-versicolor\n",
            "79   5.7  2.6  3.5  1.0  Iris-versicolor\n",
            "80   5.5  2.4  3.8  1.1  Iris-versicolor\n",
            "81   5.5  2.4  3.7  1.0  Iris-versicolor\n",
            "82   5.8  2.7  3.9  1.2  Iris-versicolor\n",
            "83   6.0  2.7  5.1  1.6  Iris-versicolor\n",
            "84   5.4  3.0  4.5  1.5  Iris-versicolor\n",
            "85   6.0  3.4  4.5  1.6  Iris-versicolor\n",
            "86   6.7  3.1  4.7  1.5  Iris-versicolor\n",
            "87   6.3  2.3  4.4  1.3  Iris-versicolor\n",
            "88   5.6  3.0  4.1  1.3  Iris-versicolor\n",
            "89   5.5  2.5  4.0  1.3  Iris-versicolor\n",
            "90   5.5  2.6  4.4  1.2  Iris-versicolor\n",
            "91   6.1  3.0  4.6  1.4  Iris-versicolor\n",
            "92   5.8  2.6  4.0  1.2  Iris-versicolor\n",
            "93   5.0  2.3  3.3  1.0  Iris-versicolor\n",
            "94   5.6  2.7  4.2  1.3  Iris-versicolor\n",
            "95   5.7  3.0  4.2  1.2  Iris-versicolor\n",
            "96   5.7  2.9  4.2  1.3  Iris-versicolor\n",
            "97   6.2  2.9  4.3  1.3  Iris-versicolor\n",
            "98   5.1  2.5  3.0  1.1  Iris-versicolor\n",
            "99   5.7  2.8  4.1  1.3  Iris-versicolor\n",
            "100  6.3  3.3  6.0  2.5   Iris-virginica\n",
            "101  5.8  2.7  5.1  1.9   Iris-virginica\n",
            "102  7.1  3.0  5.9  2.1   Iris-virginica\n",
            "103  6.3  2.9  5.6  1.8   Iris-virginica\n",
            "104  6.5  3.0  5.8  2.2   Iris-virginica\n",
            "105  7.6  3.0  6.6  2.1   Iris-virginica\n",
            "106  4.9  2.5  4.5  1.7   Iris-virginica\n",
            "107  7.3  2.9  6.3  1.8   Iris-virginica\n",
            "108  6.7  2.5  5.8  1.8   Iris-virginica\n",
            "109  7.2  3.6  6.1  2.5   Iris-virginica\n",
            "110  6.5  3.2  5.1  2.0   Iris-virginica\n",
            "111  6.4  2.7  5.3  1.9   Iris-virginica\n",
            "112  6.8  3.0  5.5  2.1   Iris-virginica\n",
            "113  5.7  2.5  5.0  2.0   Iris-virginica\n",
            "114  5.8  2.8  5.1  2.4   Iris-virginica\n",
            "115  6.4  3.2  5.3  2.3   Iris-virginica\n",
            "116  6.5  3.0  5.5  1.8   Iris-virginica\n",
            "117  7.7  3.8  6.7  2.2   Iris-virginica\n",
            "118  7.7  2.6  6.9  2.3   Iris-virginica\n",
            "119  6.0  2.2  5.0  1.5   Iris-virginica\n",
            "120  6.9  3.2  5.7  2.3   Iris-virginica\n",
            "121  5.6  2.8  4.9  2.0   Iris-virginica\n",
            "122  7.7  2.8  6.7  2.0   Iris-virginica\n",
            "123  6.3  2.7  4.9  1.8   Iris-virginica\n",
            "124  6.7  3.3  5.7  2.1   Iris-virginica\n",
            "125  7.2  3.2  6.0  1.8   Iris-virginica\n",
            "126  6.2  2.8  4.8  1.8   Iris-virginica\n",
            "127  6.1  3.0  4.9  1.8   Iris-virginica\n",
            "128  6.4  2.8  5.6  2.1   Iris-virginica\n",
            "129  7.2  3.0  5.8  1.6   Iris-virginica\n",
            "130  7.4  2.8  6.1  1.9   Iris-virginica\n",
            "131  7.9  3.8  6.4  2.0   Iris-virginica\n",
            "132  6.4  2.8  5.6  2.2   Iris-virginica\n",
            "133  6.3  2.8  5.1  1.5   Iris-virginica\n",
            "134  6.1  2.6  5.6  1.4   Iris-virginica\n",
            "135  7.7  3.0  6.1  2.3   Iris-virginica\n",
            "136  6.3  3.4  5.6  2.4   Iris-virginica\n",
            "137  6.4  3.1  5.5  1.8   Iris-virginica\n",
            "138  6.0  3.0  4.8  1.8   Iris-virginica\n",
            "139  6.9  3.1  5.4  2.1   Iris-virginica\n",
            "140  6.7  3.1  5.6  2.4   Iris-virginica\n",
            "141  6.9  3.1  5.1  2.3   Iris-virginica\n",
            "142  5.8  2.7  5.1  1.9   Iris-virginica\n",
            "143  6.8  3.2  5.9  2.3   Iris-virginica\n",
            "144  6.7  3.3  5.7  2.5   Iris-virginica\n",
            "145  6.7  3.0  5.2  2.3   Iris-virginica\n",
            "146  6.3  2.5  5.0  1.9   Iris-virginica\n",
            "147  6.5  3.0  5.2  2.0   Iris-virginica\n",
            "148  6.2  3.4  5.4  2.3   Iris-virginica\n",
            "149  5.9  3.0  5.1  1.8   Iris-virginica\n"
          ]
        }
      ]
    },
    {
      "cell_type": "markdown",
      "source": [
        "2. Display the columns in the dataset."
      ],
      "metadata": {
        "id": "qBVE4flKuS9q"
      }
    },
    {
      "cell_type": "code",
      "source": [
        "print(df.columns)"
      ],
      "metadata": {
        "colab": {
          "base_uri": "https://localhost:8080/"
        },
        "id": "9E22BlXqpw9q",
        "outputId": "6ce8e0f4-4039-49e5-a9f5-f45272a06b78"
      },
      "execution_count": null,
      "outputs": [
        {
          "output_type": "stream",
          "name": "stdout",
          "text": [
            "Index(['SL', 'SW', 'PL', 'PW', 'Classification'], dtype='object')\n"
          ]
        }
      ]
    },
    {
      "cell_type": "markdown",
      "source": [
        "3. Calculate the mean of each column of the dataset."
      ],
      "metadata": {
        "id": "RcnQku4Pud9i"
      }
    },
    {
      "cell_type": "code",
      "source": [
        "means = df.mean()\n",
        "\n",
        "\n",
        "print(means)"
      ],
      "metadata": {
        "colab": {
          "base_uri": "https://localhost:8080/"
        },
        "id": "dXYvY8OUp415",
        "outputId": "e6b48bdd-6b31-4700-ccf8-35f9632ffe38"
      },
      "execution_count": null,
      "outputs": [
        {
          "output_type": "stream",
          "name": "stdout",
          "text": [
            "SL    5.843333\n",
            "SW    3.054000\n",
            "PL    3.758667\n",
            "PW    1.198667\n",
            "dtype: float64\n"
          ]
        },
        {
          "output_type": "stream",
          "name": "stderr",
          "text": [
            "<ipython-input-4-84842f017a3f>:1: FutureWarning: Dropping of nuisance columns in DataFrame reductions (with 'numeric_only=None') is deprecated; in a future version this will raise TypeError.  Select only valid columns before calling the reduction.\n",
            "  means = df.mean()\n"
          ]
        }
      ]
    },
    {
      "cell_type": "markdown",
      "source": [
        "4. Check for the null values present in the dataset."
      ],
      "metadata": {
        "id": "_zgrZ74FajSq"
      }
    },
    {
      "cell_type": "code",
      "source": [
        "null_values = df.isnull().sum()\n",
        "\n",
        "print(null_values)"
      ],
      "metadata": {
        "id": "mBS4IJb2qFUz",
        "colab": {
          "base_uri": "https://localhost:8080/"
        },
        "outputId": "8cd0459c-6c82-4af7-a7c9-c2c8407fff03"
      },
      "execution_count": 6,
      "outputs": [
        {
          "output_type": "stream",
          "name": "stdout",
          "text": [
            "SL                0\n",
            "SW                0\n",
            "PL                0\n",
            "PW                0\n",
            "Classification    0\n",
            "dtype: int64\n"
          ]
        }
      ]
    },
    {
      "cell_type": "code",
      "source": [
        "if df.isnull().sum().any():\n",
        "    print('There are null values in the dataset')\n",
        "else:\n",
        "    print('There are no null values in the dataset')"
      ],
      "metadata": {
        "colab": {
          "base_uri": "https://localhost:8080/"
        },
        "id": "8YxUsKG6ZnGT",
        "outputId": "7e6f2591-4074-4cc7-da38-6a254521066a"
      },
      "execution_count": 7,
      "outputs": [
        {
          "output_type": "stream",
          "name": "stdout",
          "text": [
            "There are no null values in the dataset\n"
          ]
        }
      ]
    },
    {
      "cell_type": "markdown",
      "source": [
        "5. Perform meaningful visualizations using the dataset. Bring at least 3 visualizations."
      ],
      "metadata": {
        "id": "NUj5D20PgRGr"
      }
    },
    {
      "cell_type": "markdown",
      "source": [
        "a. Create a scatter plot of SL vs. SW"
      ],
      "metadata": {
        "id": "OUSOA6uFflTR"
      }
    },
    {
      "cell_type": "code",
      "source": [
        "import pandas as pd\n",
        "import matplotlib.pyplot as plt\n",
        "\n",
        "# Load the Excel file into a pandas DataFrame\n",
        "df = pd.read_excel('iris.xls')\n",
        "\n",
        "# Check the column names in the DataFrame\n",
        "print(df.columns)\n",
        "\n",
        "# Create a scatter plot of sl vs. sw\n",
        "try:\n",
        "    plt.scatter(df['SL'], df['SW'])\n",
        "    plt.xlabel('SL (cm)')\n",
        "    plt.ylabel('SW (cm)')\n",
        "    plt.title('Scatter Plot of SL vs. SW')\n",
        "    plt.show()\n",
        "except KeyError:\n",
        "    print('Column names not found. Please check the names in the DataFrame.')"
      ],
      "metadata": {
        "colab": {
          "base_uri": "https://localhost:8080/",
          "height": 312
        },
        "id": "Xbs2s2VNcW0R",
        "outputId": "ec8b6371-8a34-4411-b688-83c3864b56bc"
      },
      "execution_count": 19,
      "outputs": [
        {
          "output_type": "stream",
          "name": "stdout",
          "text": [
            "Index(['SL', 'SW', 'PL', 'PW', 'Classification'], dtype='object')\n"
          ]
        },
        {
          "output_type": "display_data",
          "data": {
            "text/plain": [
              "<Figure size 432x288 with 1 Axes>"
            ],
            "image/png": "[encoded data removed]"
          },
          "metadata": {
            "needs_background": "light"
          }
        }
      ]
    },
    {
      "cell_type": "markdown",
      "source": [
        "b. Create a box plot of all four features"
      ],
      "metadata": {
        "id": "EXvGLjGqfWA-"
      }
    },
    {
      "cell_type": "code",
      "source": [
        "df = df.dropna()\n",
        "\n",
        "# Create a box plot of all four features\n",
        "df.plot(kind='box')\n",
        "plt.xlabel('Feature')\n",
        "plt.ylabel('Value')\n",
        "plt.title('Box Plot of All Four Features')\n",
        "plt.show()"
      ],
      "metadata": {
        "colab": {
          "base_uri": "https://localhost:8080/",
          "height": 295
        },
        "id": "pGdSbWApc6e4",
        "outputId": "ed4ce0b4-5d0b-4081-c5b8-392c99418679"
      },
      "execution_count": 14,
      "outputs": [
        {
          "output_type": "display_data",
          "data": {
            "text/plain": [
              "<Figure size 432x288 with 1 Axes>"
            ],
            "image/png": "[encoded data removed]"
          },
          "metadata": {
            "needs_background": "light"
          }
        }
      ]
    },
    {
      "cell_type": "markdown",
      "source": [
        "c. Create a histogram of PL"
      ],
      "metadata": {
        "id": "tY59IAAyfDms"
      }
    },
    {
      "cell_type": "code",
      "source": [
        "import pandas as pd\n",
        "import matplotlib.pyplot as plt\n",
        "\n",
        "# Load the Excel file into a pandas DataFrame\n",
        "df = pd.read_excel('iris.xls')\n",
        "\n",
        "# Filter the column to include only numeric values\n",
        "petal_length = pd.to_numeric(df['PL'], errors='coerce').dropna()\n",
        "\n",
        "\n",
        "plt.hist(petal_length)\n",
        "plt.xlabel('PL')\n",
        "plt.ylabel('Frequency')\n",
        "plt.title('Histogram of PL')\n",
        "plt.show()"
      ],
      "metadata": {
        "colab": {
          "base_uri": "https://localhost:8080/",
          "height": 295
        },
        "id": "8n7pwvOjdPea",
        "outputId": "3866ffe0-1cc4-41aa-b644-65c0e09d7e3d"
      },
      "execution_count": 20,
      "outputs": [
        {
          "output_type": "display_data",
          "data": {
            "text/plain": [
              "<Figure size 432x288 with 1 Axes>"
            ],
            "image/png": "[encoded data removed]"
          },
          "metadata": {
            "needs_background": "light"
          }
        }
      ]
    },
    {
      "cell_type": "code",
      "source": [
        "plt.hist(df['PL'])\n",
        "plt.xlabel('PL')\n",
        "plt.ylabel('Frequency')\n",
        "plt.title('Histogram of PL')\n",
        "plt.show()"
      ],
      "metadata": {
        "colab": {
          "base_uri": "https://localhost:8080/",
          "height": 295
        },
        "id": "NiNP3sngdQYf",
        "outputId": "c154f56a-f0a5-4c79-cecf-6f7c8844a9b2"
      },
      "execution_count": 21,
      "outputs": [
        {
          "output_type": "display_data",
          "data": {
            "text/plain": [
              "<Figure size 432x288 with 1 Axes>"
            ],
            "image/png": "[encoded data removed]"
          },
          "metadata": {
            "needs_background": "light"
          }
        }
      ]
    },
    {
      "cell_type": "code",
      "source": [],
      "metadata": {
        "id": "EzksLkpjdnPH"
      },
      "execution_count": null,
      "outputs": []
    }
  ]
}